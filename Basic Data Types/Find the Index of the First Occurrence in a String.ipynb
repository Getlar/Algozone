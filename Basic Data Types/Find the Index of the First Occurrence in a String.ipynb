{
 "cells": [
  {
   "cell_type": "markdown",
   "metadata": {},
   "source": [
    "## Given two strings `needle` and `haystack`, return the `index` of the first occurrence of `needle` in `haystack`, or -1 if `needle` is not part of `haystack`.\n",
    "\n",
    "----\n",
    "\n",
    "```\n",
    "Input: haystack = \"sadbutsad\", needle = \"sad\"\n",
    "Output: 0\n",
    "Explanation: \"sad\" occurs at index 0 and 6.\n",
    "The first occurrence is at index 0, so we return 0.\n",
    "```\n",
    "```\n",
    "Input: haystack = \"leetcode\", needle = \"leeto\"\n",
    "Output: -1\n",
    "Explanation: \"leeto\" did not occur in \"leetcode\", so we return -1.\n",
    "```\n",
    "\n",
    "----\n",
    "\n",
    "**Constraints:**\n",
    "- `1 <= haystack.length, needle.length <= 104`\n",
    "- `haystack` and `needle` consist of only lowercase English characters."
   ]
  },
  {
   "cell_type": "markdown",
   "metadata": {},
   "source": [
    "**Solution 1:** Simple solution to use string splitting. **O(n*m)** algorithm where `n` is the length of the word and `m` is the length of the substring."
   ]
  },
  {
   "cell_type": "code",
   "execution_count": 1,
   "metadata": {},
   "outputs": [],
   "source": [
    "class Solution:\n",
    "    @staticmethod\n",
    "    def strStr(haystack: str, needle: str) -> int:\n",
    "        len_haystack = len(haystack)\n",
    "        haystack = haystack.split(needle)\n",
    "        return len(haystack[0]) if len(haystack[0]) != len_haystack else -1"
   ]
  },
  {
   "cell_type": "code",
   "execution_count": 2,
   "metadata": {},
   "outputs": [
    {
     "name": "stdout",
     "output_type": "stream",
     "text": [
      "2\n",
      "1\n"
     ]
    }
   ],
   "source": [
    "print(Solution.strStr(\"tamaska\", \"mask\"))\n",
    "print(Solution.strStr(\"44993\", \"49\"))"
   ]
  },
  {
   "cell_type": "markdown",
   "metadata": {},
   "source": [
    "**Solution 2:** Simple solution implementing the KMP algorithm."
   ]
  },
  {
   "cell_type": "code",
   "execution_count": null,
   "metadata": {},
   "outputs": [],
   "source": [
    "class Solution:\n",
    "    @staticmethod\n",
    "    def strStr(self, haystack: str, needle: str) -> int:\n",
    "        lps = [0] * len(needle)\n",
    "        pre = 0\n",
    "        for i in range(1, len(needle)):\n",
    "            while pre > 0 and needle[i] != needle[pre]:\n",
    "                pre = lps[pre-1]\n",
    "            if needle[pre] == needle[i]:\n",
    "                pre += 1\n",
    "                lps[i] = pre\n",
    "        \n",
    "        n = 0\n",
    "        for h in range(len(haystack)):\n",
    "            while n > 0 and needle[n] != haystack[h]:\n",
    "                n = lps[n-1]\n",
    "            if needle[n] == haystack[h]:\n",
    "                n += 1\n",
    "            if n == len(needle):\n",
    "                return h - n + 1\n",
    "        \n",
    "        return -1"
   ]
  }
 ],
 "metadata": {
  "kernelspec": {
   "display_name": "new",
   "language": "python",
   "name": "python3"
  },
  "language_info": {
   "codemirror_mode": {
    "name": "ipython",
    "version": 3
   },
   "file_extension": ".py",
   "mimetype": "text/x-python",
   "name": "python",
   "nbconvert_exporter": "python",
   "pygments_lexer": "ipython3",
   "version": "3.11.4"
  },
  "orig_nbformat": 4
 },
 "nbformat": 4,
 "nbformat_minor": 2
}
