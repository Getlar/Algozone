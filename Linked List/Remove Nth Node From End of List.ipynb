{
 "cells": [
  {
   "cell_type": "markdown",
   "metadata": {},
   "source": [
    "## Given the `head` of a linked list, remove the `nth` node from the end of the list and return its head.\n",
    "\n",
    "Return the sum of the three integers.\n",
    "\n",
    "You may assume that each input would have exactly one solution.\n",
    "\n",
    "![Max-Height](remove_ex1.jpg)\n",
    "----\n",
    "\n",
    "```\n",
    "Input: head = [1,2,3,4,5], n = 2\n",
    "Output: [1,2,3,5]\n",
    "```\n",
    "```\n",
    "Input: head = [1], n = 1\n",
    "Output: []\n",
    "\n",
    "```\n",
    "```\n",
    "Input: head = [1,2], n = 1\n",
    "Output: [1]\n",
    "```\n",
    "----\n",
    "\n",
    "**Constraints:**\n",
    "\n",
    "- The number of nodes in the list is `sz.`\n",
    "- `1 <= sz <= 30`\n",
    "- `0 <= Node.val <= 100`\n",
    "- `1 <= n <= sz`\n"
   ]
  },
  {
   "cell_type": "markdown",
   "metadata": {},
   "source": [
    "**Solution 1:** Using two pointers the problem can be reduced to O(n)."
   ]
  },
  {
   "cell_type": "code",
   "execution_count": 4,
   "metadata": {},
   "outputs": [],
   "source": [
    "class ListNode:\n",
    "    def __init__(self, val=0, next=None):\n",
    "        self.val = val\n",
    "        self.next = next\n",
    "\n",
    "def build_linked_list(values):\n",
    "    if not values:\n",
    "        return None\n",
    "    \n",
    "    head = ListNode(values[0])\n",
    "    current = head\n",
    "\n",
    "    for val in values[1:]:\n",
    "        current.next = ListNode(val)\n",
    "        current = current.next\n",
    "\n",
    "    return head\n",
    "\n",
    "def print_linked_list(head):\n",
    "    current = head\n",
    "    while current:\n",
    "        print(current.val, end=\" -> \")\n",
    "        current = current.next\n",
    "    print(\"None\")\n",
    "\n",
    "class Solution:\n",
    "\n",
    "    @staticmethod\n",
    "    def removeNthFromEnd(head: ListNode, n: int) -> ListNode:\n",
    "        fast = head\n",
    "        slow = head\n",
    "\n",
    "        for i in range(n):\n",
    "            fast = fast.next\n",
    "            \n",
    "        if not fast:\n",
    "            return head.next\n",
    "\n",
    "        while fast.next:\n",
    "            slow = slow.next\n",
    "            fast = fast.next\n",
    "\n",
    "        slow.next = slow.next.next\n",
    "        return head\n"
   ]
  },
  {
   "cell_type": "code",
   "execution_count": 5,
   "metadata": {},
   "outputs": [
    {
     "name": "stdout",
     "output_type": "stream",
     "text": [
      "1 -> 2 -> 3 -> 5 -> None\n"
     ]
    }
   ],
   "source": [
    "head = build_linked_list([1,2,3,4,5])\n",
    "print_linked_list(Solution.removeNthFromEnd(head, 2))"
   ]
  },
  {
   "cell_type": "markdown",
   "metadata": {},
   "source": [
    "**Solution 2:** Bit faster solution and also recursive. Does a single pass as well and builds the list back from the end."
   ]
  },
  {
   "cell_type": "code",
   "execution_count": 17,
   "metadata": {},
   "outputs": [],
   "source": [
    "from typing import Optional\n",
    "\n",
    "class Solution2:\n",
    "\n",
    "    @staticmethod\n",
    "    def recursiveHelper(head: Optional[ListNode], n: int) -> (Optional[ListNode], int):\n",
    "        if (head == None):\n",
    "            return (None, 0)\n",
    "        else:\n",
    "            (chain, location) = Solution2.recursiveHelper(head.next, n)\n",
    "            location += 1\n",
    "            if (location == n):\n",
    "                return (chain, location)\n",
    "            else:\n",
    "                return (ListNode(head.val, chain), location)\n",
    "\n",
    "    @staticmethod\n",
    "    def removeNthFromEnd(head: Optional[ListNode], n: int) -> Optional[ListNode]:\n",
    "        (head, location) = Solution2.recursiveHelper(head, n)\n",
    "        return head"
   ]
  },
  {
   "cell_type": "code",
   "execution_count": 18,
   "metadata": {},
   "outputs": [
    {
     "name": "stdout",
     "output_type": "stream",
     "text": [
      "1 -> 2 -> 3 -> 5 -> None\n"
     ]
    }
   ],
   "source": [
    "head = build_linked_list([1,2,3,4,5])\n",
    "print_linked_list(Solution2.removeNthFromEnd(head=head, n=2))"
   ]
  }
 ],
 "metadata": {
  "kernelspec": {
   "display_name": "Python 3",
   "language": "python",
   "name": "python3"
  },
  "language_info": {
   "codemirror_mode": {
    "name": "ipython",
    "version": 3
   },
   "file_extension": ".py",
   "mimetype": "text/x-python",
   "name": "python",
   "nbconvert_exporter": "python",
   "pygments_lexer": "ipython3",
   "version": "3.11.0"
  },
  "orig_nbformat": 4
 },
 "nbformat": 4,
 "nbformat_minor": 2
}
