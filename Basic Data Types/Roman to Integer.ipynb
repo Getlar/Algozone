{
 "cells": [
  {
   "cell_type": "markdown",
   "metadata": {},
   "source": [
    "## Roman numerals are represented by seven different symbols: `I, V, X, L, C, D and M`.\n",
    "```\n",
    "Symbol       Value\n",
    "I             1\n",
    "V             5\n",
    "X             10\n",
    "L             50\n",
    "C             100\n",
    "D             500\n",
    "M             1000\n",
    "```\n",
    "\n",
    "For example, `2` is written as `II` in Roman numeral, just two one's added together. `12` is written as `XII`, which is simply `X + II`. The number `27` is written as `XXVII`, which is `XX + V + II`.\n",
    "\n",
    "Roman numerals are usually written largest to smallest from left to right. However, the numeral for four is not `IIII`. Instead, the number four is written as `IV`. Because the one is before the five we subtract it making four. The same principle applies to the number nine, which is written as `IX`. There are six instances where subtraction is used:\n",
    "\n",
    "- `I` can be placed before `V` (5) and `X` (10) to make 4 and 9. \n",
    "- `X` can be placed before `L` (50) and `C` (100) to make 40 and 90. \n",
    "- `C` can be placed before `D` (500) and `M` (1000) to make 400 and 900.\n",
    "\n",
    "Given an integer, convert it to a roman numeral.\n",
    "\n",
    "----\n",
    "\n",
    "```\n",
    "Input: num = 3\n",
    "Output: \"III\"\n",
    "Explanation: 3 is represented as 3 ones.\n",
    "```\n",
    "```\n",
    "Input: num = 58\n",
    "Output: \"LVIII\"\n",
    "Explanation: L = 50, V = 5, III = 3.\n",
    "```\n",
    "```\n",
    "Input: num = 1994\n",
    "Output: \"MCMXCIV\"\n",
    "Explanation: M = 1000, CM = 900, XC = 90 and IV = 4.\n",
    "```\n",
    "\n",
    "----"
   ]
  },
  {
   "cell_type": "markdown",
   "metadata": {},
   "source": [
    "**Solution 1:** The dumbest way to solve this issue is to use a highly conditional structure incorporating every edge case possible. This algorithm is fast and has a low memory requirement."
   ]
  },
  {
   "cell_type": "code",
   "execution_count": 3,
   "metadata": {},
   "outputs": [],
   "source": [
    "class Solution:\n",
    "    @staticmethod\n",
    "    def intToRoman(num: int) -> str:\n",
    "        roman = ''\n",
    "        while num > 0:\n",
    "            if num // 1000 > 0:\n",
    "                stri = (num // 1000) * 'M'\n",
    "                roman += stri\n",
    "                num = num % 1000\n",
    "            elif num // 100 > 0:\n",
    "                if num // 100 >= 5 and num // 100 != 9:\n",
    "                    roman += 'D'\n",
    "                    num -= 500\n",
    "                else:\n",
    "                    if num // 100 == 4:\n",
    "                        roman += 'CD'\n",
    "                    elif num // 100 == 9:\n",
    "                        roman += 'CM'\n",
    "                    else:\n",
    "                        stri = (num // 100) * 'C'\n",
    "                        roman += stri\n",
    "                    num = num % 100\n",
    "            elif num // 10 > 0:\n",
    "                if num // 10 >= 5 and num // 10 != 9:\n",
    "                    roman += 'L'\n",
    "                    num -= 50\n",
    "                else: \n",
    "                    if num // 10 == 4:\n",
    "                        roman += 'XL'\n",
    "                    elif num // 10 == 9:\n",
    "                        roman += 'XC'\n",
    "                    else:\n",
    "                        stri = (num // 10) * 'X'\n",
    "                        roman += stri\n",
    "                    num = num % 10\n",
    "            else:\n",
    "                if num >= 5 and num != 9:\n",
    "                    roman += 'V'\n",
    "                    num -= 5\n",
    "                else:\n",
    "                    if num == 9:\n",
    "                        roman += 'IX'\n",
    "                    elif num == 4:\n",
    "                        roman += 'IV'\n",
    "                    else:\n",
    "                        stri = num * 'I'\n",
    "                        roman += stri\n",
    "                    num = 0\n",
    "        return roman"
   ]
  },
  {
   "cell_type": "code",
   "execution_count": 4,
   "metadata": {},
   "outputs": [
    {
     "name": "stdout",
     "output_type": "stream",
     "text": [
      "DXCII\n",
      "MMMMMMMMMMMMMMMMMMMMMMMMMMMMMMMMMMMMMMMMMMMMCMXCIII\n",
      "XIX\n"
     ]
    }
   ],
   "source": [
    "print(Solution.intToRoman(592))\n",
    "print(Solution.intToRoman(44993))\n",
    "print(Solution.intToRoman(19))"
   ]
  },
  {
   "cell_type": "markdown",
   "metadata": {},
   "source": [
    "**Solution 2:** Another smart solution which is faster uses a dictionary."
   ]
  },
  {
   "cell_type": "code",
   "execution_count": 3,
   "metadata": {},
   "outputs": [],
   "source": [
    "class Solution:\n",
    "    @staticmethod\n",
    "    def intToRoman(self, num: int) -> str:\n",
    "        roman_numerals = {\n",
    "            1000: 'M',\n",
    "            900: 'CM',\n",
    "            500: 'D',\n",
    "            400: 'CD',\n",
    "            100: 'C',\n",
    "            90: 'XC',\n",
    "            50: 'L',\n",
    "            40: 'XL',\n",
    "            10: 'X',\n",
    "            9: 'IX',\n",
    "            5: 'V',\n",
    "            4: 'IV',\n",
    "            1: 'I'\n",
    "        }\n",
    "        \n",
    "        roman = ''\n",
    "        for value, symbol in sorted(roman_numerals.items(), reverse=True):\n",
    "            while num >= value:\n",
    "                roman += symbol\n",
    "                num -= value\n",
    "        \n",
    "        return roman"
   ]
  },
  {
   "cell_type": "code",
   "execution_count": 5,
   "metadata": {},
   "outputs": [
    {
     "name": "stdout",
     "output_type": "stream",
     "text": [
      "DXCII\n",
      "MMMMMMMMMMMMMMMMMMMMMMMMMMMMMMMMMMMMMMMMMMMMCMXCIII\n",
      "XIX\n"
     ]
    }
   ],
   "source": [
    "print(Solution.intToRoman(592))\n",
    "print(Solution.intToRoman(44993))\n",
    "print(Solution.intToRoman(19))"
   ]
  }
 ],
 "metadata": {
  "kernelspec": {
   "display_name": "new",
   "language": "python",
   "name": "python3"
  },
  "language_info": {
   "codemirror_mode": {
    "name": "ipython",
    "version": 3
   },
   "file_extension": ".py",
   "mimetype": "text/x-python",
   "name": "python",
   "nbconvert_exporter": "python",
   "pygments_lexer": "ipython3",
   "version": "3.11.0"
  },
  "orig_nbformat": 4
 },
 "nbformat": 4,
 "nbformat_minor": 2
}
