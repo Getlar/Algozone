{
 "cells": [
  {
   "cell_type": "markdown",
   "metadata": {},
   "source": [
    "## Given an input string `s` and a pattern `p`, implement regular expression matching with support for `'.'` and `'*'` where:\n",
    "\n",
    "- '.' Matches any single character.​​​​\n",
    "- '*' Matches zero or more of the preceding element.\n",
    "- The matching should cover the entire input string (not partial)..\n",
    "\n",
    "----\n",
    "\n",
    "```\n",
    "Input: s = \"aa\", p = \"a\"\n",
    "Output: false\n",
    "Explanation: \"a\" does not match the entire string \"aa\".\n",
    "```\n",
    "```\n",
    "Input: s = \"aa\", p = \"a*\"\n",
    "Output: true\n",
    "Explanation: '*' means zero or more of the preceding element, 'a'. Therefore, by repeating 'a' once, it becomes \"aa\".\n",
    "```\n",
    "```\n",
    "Input: s = \"ab\", p = \".*\"\n",
    "Output: true\n",
    "Explanation: \".*\" means \"zero or more (*) of any character (.)\".\n",
    "```\n",
    "----"
   ]
  },
  {
   "cell_type": "markdown",
   "metadata": {},
   "source": [
    "**Solution 1:** DP method utilizing memoization (caching). Using tree like structure and dfs search to check for matching patterns.\n",
    "\n",
    "![Pattern-Match](match.png)"
   ]
  },
  {
   "cell_type": "code",
   "execution_count": 1,
   "metadata": {},
   "outputs": [],
   "source": [
    "def isMatch(s: str, p: str) -> bool:\n",
    "    cache = {}\n",
    "\n",
    "    def dfs(i, j):\n",
    "        if (i, j) in cache:\n",
    "            return cache[(i, j)]\n",
    "        if i >= len(s) and j >= len(p):\n",
    "            return True\n",
    "        if j >= len(p):\n",
    "            return False\n",
    "        \n",
    "        match = i < len(s) and (s[i] == p[j] or p[j] == '.')\n",
    "        if j + 1 < len(p) and p[j + 1] == '*':\n",
    "            cache[(i, j)] = dfs(i, j + 2) or (match and dfs(i + 1, j))\n",
    "        else:\n",
    "            cache[(i, j)] = match and dfs(i + 1, j + 1)\n",
    "        return cache[(i, j)]\n",
    "    \n",
    "    return dfs(0, 0)"
   ]
  },
  {
   "cell_type": "code",
   "execution_count": 2,
   "metadata": {},
   "outputs": [
    {
     "name": "stdout",
     "output_type": "stream",
     "text": [
      "True\n",
      "True\n"
     ]
    }
   ],
   "source": [
    "print(isMatch(\"ab\", \".*\"))\n",
    "print(isMatch(\"aa\", \"a*\"))"
   ]
  },
  {
   "cell_type": "markdown",
   "metadata": {},
   "source": [
    "**Solution 2:** The easiest method is to call the regex matcher built-in function in Python."
   ]
  },
  {
   "cell_type": "code",
   "execution_count": 7,
   "metadata": {},
   "outputs": [],
   "source": [
    "import re\n",
    "\n",
    "# For triple stars\n",
    "class Solution:\n",
    "    def adjust_pattern(self, p: str) -> str:\n",
    "        return re.sub(r'\\*+', '*', p)\n",
    "\n",
    "    def isMatch(self, s: str, p: str) -> bool:\n",
    "        adjusted_p = self.adjust_pattern(p)\n",
    "        return re.match(fr\"^{adjusted_p}$\", s) is not None"
   ]
  },
  {
   "cell_type": "code",
   "execution_count": 4,
   "metadata": {},
   "outputs": [
    {
     "name": "stdout",
     "output_type": "stream",
     "text": [
      "True\n",
      "True\n"
     ]
    }
   ],
   "source": [
    "print(isMatch(\"ab\", \".*\"))\n",
    "print(isMatch(\"aa\", \"a*\"))"
   ]
  }
 ],
 "metadata": {
  "kernelspec": {
   "display_name": "Python 3",
   "language": "python",
   "name": "python3"
  },
  "language_info": {
   "codemirror_mode": {
    "name": "ipython",
    "version": 3
   },
   "file_extension": ".py",
   "mimetype": "text/x-python",
   "name": "python",
   "nbconvert_exporter": "python",
   "pygments_lexer": "ipython3",
   "version": "3.11.2"
  },
  "orig_nbformat": 4
 },
 "nbformat": 4,
 "nbformat_minor": 2
}
