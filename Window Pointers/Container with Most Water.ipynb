{
 "cells": [
  {
   "cell_type": "markdown",
   "metadata": {},
   "source": [
    "## You are given an integer array `height` of length `n`. There are `n` vertical lines drawn such that the two endpoints of the ith line are `(i, 0)` and `(i, height[i])`.\n",
    "Find two lines that together with the x-axis form a container, such that the container contains the most water.\n",
    "\n",
    "Return the maximum amount of water a container can store.\n",
    "\n",
    "![Max-Height](maxArea.jpeg)\n",
    "\n",
    "----\n",
    "\n",
    "```\n",
    "Input: height = [1,8,6,2,5,4,8,3,7]\n",
    "Output: 49\n",
    "Explanation: The above vertical lines are represented by array [1,8,6,2,5,4,8,3,7]. In this case, the max area of water (blue section) the container can contain is 49.\n",
    "```\n",
    "```\n",
    "Input: height = [1,1]\n",
    "Output: 1\n",
    "\n",
    "```\n",
    "----"
   ]
  },
  {
   "cell_type": "markdown",
   "metadata": {},
   "source": [
    "**Solution 1:** Using two pointers we only have to iterate through the list only once, hence achieving running complexity of **O(n)**"
   ]
  },
  {
   "cell_type": "code",
   "execution_count": 2,
   "metadata": {},
   "outputs": [],
   "source": [
    "def maxArea(height: list[int]) -> int:\n",
    "    l,r=0,len(height)-1\n",
    "\n",
    "    water=0\n",
    "    while l<r:\n",
    "        water=max(min(height[l],height[r])*(r-l),water)\n",
    "        if height[l]<height[r]:\n",
    "            l+=1\n",
    "        else:\n",
    "            r-=1\n",
    " \n",
    "    return water"
   ]
  },
  {
   "cell_type": "code",
   "execution_count": 3,
   "metadata": {},
   "outputs": [
    {
     "name": "stdout",
     "output_type": "stream",
     "text": [
      "49\n"
     ]
    }
   ],
   "source": [
    "print(maxArea([1,8,6,2,5,4,8,3,7]))"
   ]
  },
  {
   "cell_type": "markdown",
   "metadata": {},
   "source": [
    "**Solution 2:** We can use a D&Q approach to divide the originial problem into more subproblems. If `larger > left_half or right_half return larger else return the largest`. This turns this algorithm into a **O(nlog(n))** solution."
   ]
  },
  {
   "cell_type": "code",
   "execution_count": 6,
   "metadata": {},
   "outputs": [],
   "source": [
    "def maxArea(height: list[int]) -> int:\n",
    "    if height is None or len(height) < 2:\n",
    "        return 1\n",
    "        \n",
    "    m = len(height) // 2\n",
    "        \n",
    "    if height[0] > height[-1]:\n",
    "        tmpArea = height[-1] ** 2\n",
    "    else:\n",
    "        tmpArea = height[0] ** 2\n",
    "\n",
    "    maxArea_left = maxArea(height[:m])\n",
    "    maxArea_right = maxArea(height[m:])\n",
    "\n",
    "\n",
    "    if maxArea_left >= tmpArea and maxArea_left >= maxArea_right:\n",
    "        return maxArea_left\n",
    "    if tmpArea <= maxArea_right:\n",
    "        return maxArea_right\n",
    "    return tmpArea"
   ]
  },
  {
   "cell_type": "code",
   "execution_count": 7,
   "metadata": {},
   "outputs": [
    {
     "name": "stdout",
     "output_type": "stream",
     "text": [
      "49\n"
     ]
    }
   ],
   "source": [
    "print(maxArea([1,8,6,2,5,4,8,3,7]))"
   ]
  }
 ],
 "metadata": {
  "kernelspec": {
   "display_name": "Python 3",
   "language": "python",
   "name": "python3"
  },
  "language_info": {
   "codemirror_mode": {
    "name": "ipython",
    "version": 3
   },
   "file_extension": ".py",
   "mimetype": "text/x-python",
   "name": "python",
   "nbconvert_exporter": "python",
   "pygments_lexer": "ipython3",
   "version": "3.11.2"
  },
  "orig_nbformat": 4
 },
 "nbformat": 4,
 "nbformat_minor": 2
}
