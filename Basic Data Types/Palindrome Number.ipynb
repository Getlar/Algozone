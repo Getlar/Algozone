{
 "cells": [
  {
   "cell_type": "markdown",
   "metadata": {},
   "source": [
    "## Given an integer `x`, return `true` if `x` is a palindrome, and `false` otherwise.\n",
    "\n",
    "**Assume the environment does not allow you to store 64-bit integers (signed or unsigned).**\n",
    "\n",
    "----\n",
    "\n",
    "```\n",
    "Input: x = 121\n",
    "Output: true\n",
    "Explanation: 121 reads as 121 from left to right and from right to left.\n",
    "```\n",
    "```\n",
    "Input: x = -121\n",
    "Output: false\n",
    "Explanation: From left to right, it reads -121. From right to left, it becomes 121-. Therefore it is not a palindrome.\n",
    "```\n",
    "```\n",
    "Input: x = 10\n",
    "Output: false\n",
    "Explanation: Reads 01 from right to left. Therefore it is not a palindrome.\n",
    "```\n",
    "\n",
    "**Constraints:** `-2^31 <= x <= 2^31 - 1`\n",
    "\n",
    "----"
   ]
  },
  {
   "cell_type": "markdown",
   "metadata": {},
   "source": [
    "**Solution 1:** Solution without converting int to a string and comparing characters. If the number is negative, return `False`, since due to negative numbers having the `-` sign before them, makes them not eligible. The methods is to build an integer that is a reversed version of the input integer. We do this buy taking every rightmost digit of the input number using `%`, then using the `*10` trick we can build the reverse from the left to the right. If the two final integers are equal the input is a palindrome."
   ]
  },
  {
   "cell_type": "code",
   "execution_count": 1,
   "metadata": {},
   "outputs": [],
   "source": [
    "def isPalindrome(x):\n",
    "    if x < 0:\n",
    "        return False\n",
    "    reversed_number = 0\n",
    "    number = x\n",
    "    while x > 0:\n",
    "        digit = x % 10\n",
    "        x = x // 10\n",
    "        reversed_number = reversed_number * 10 + digit\n",
    "\n",
    "    return number == reversed_number"
   ]
  },
  {
   "cell_type": "code",
   "execution_count": 2,
   "metadata": {},
   "outputs": [
    {
     "name": "stdout",
     "output_type": "stream",
     "text": [
      "False\n",
      "True\n",
      "False\n"
     ]
    }
   ],
   "source": [
    "print(isPalindrome(-5192))\n",
    "print(isPalindrome(121))\n",
    "print(isPalindrome(553))"
   ]
  }
 ],
 "metadata": {
  "kernelspec": {
   "display_name": "new",
   "language": "python",
   "name": "python3"
  },
  "language_info": {
   "codemirror_mode": {
    "name": "ipython",
    "version": 3
   },
   "file_extension": ".py",
   "mimetype": "text/x-python",
   "name": "python",
   "nbconvert_exporter": "python",
   "pygments_lexer": "ipython3",
   "version": "3.11.2"
  },
  "orig_nbformat": 4
 },
 "nbformat": 4,
 "nbformat_minor": 2
}
