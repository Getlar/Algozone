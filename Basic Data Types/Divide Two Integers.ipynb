{
 "cells": [
  {
   "cell_type": "markdown",
   "metadata": {},
   "source": [
    "## Given two integers dividend and divisor, divide two integers without using multiplication, division, and mod operator.\n",
    "\n",
    "The integer division should truncate toward zero, which means losing its fractional part. For example, `8.345` would be truncated to `8`, and `-2.7335` would be truncated to `-2`.\n",
    "\n",
    "Return the quotient after dividing `dividend` by `divisor`.\n",
    "\n",
    "Note: Assume we are dealing with an environment that could only store integers within the `32-bit signed integer` range: `[−2^31, 2^31 − 1]`. For this problem, if the quotient is strictly greater than `2^31 - 1`, then return `2^31 - 1`, and if the quotient is strictly less than `-2^31`, then return `-2^31`.\n",
    "\n",
    "----\n",
    "\n",
    "```\n",
    "Input: dividend = 10, divisor = 3\n",
    "Output: 3\n",
    "Explanation: 10/3 = 3.33333.. which is truncated to 3.\n",
    "```\n",
    "```\n",
    "Input: dividend = 7, divisor = -3\n",
    "Output: -2\n",
    "Explanation: 7/-3 = -2.33333.. which is truncated to -2.\n",
    "```\n",
    "\n",
    "----\n",
    "\n",
    "**Constraints:**\n",
    "- `-2^31 <= dividend, divisor <= 2^31-1`\n",
    "- `divisor != 0`"
   ]
  },
  {
   "cell_type": "markdown",
   "metadata": {},
   "source": [
    "**Solution 1:** Get the sign of the division. Make a list that contains how many times the divisor had to be added to get the dividend. Apply sign, check if it is below lower limit or over upper limit, then return result."
   ]
  },
  {
   "cell_type": "code",
   "execution_count": 6,
   "metadata": {},
   "outputs": [],
   "source": [
    "class Solution:\n",
    "    @staticmethod\n",
    "    def divide(dividend: int, divisor: int) -> int:\n",
    "        sign = -1 if (dividend >= 0 and divisor < 0) or (dividend < 0 and divisor >= 0) else 1\n",
    "        dividend = abs(dividend)\n",
    "        divisor = abs(divisor)\n",
    "        result = len(range(0, dividend-divisor+1, divisor))\n",
    "        if sign == -1:\n",
    "            result = -result\n",
    "        minus_limit = -(2**31)\n",
    "        plus_limit = (2**31 - 1)\n",
    "        result = min(max(result, minus_limit), plus_limit)\n",
    "        return result"
   ]
  },
  {
   "cell_type": "code",
   "execution_count": 7,
   "metadata": {},
   "outputs": [
    {
     "name": "stdout",
     "output_type": "stream",
     "text": [
      "1\n",
      "-2\n"
     ]
    }
   ],
   "source": [
    "print(Solution.divide(5, 3))\n",
    "print(Solution.divide(7, -3))"
   ]
  }
 ],
 "metadata": {
  "kernelspec": {
   "display_name": "new",
   "language": "python",
   "name": "python3"
  },
  "language_info": {
   "codemirror_mode": {
    "name": "ipython",
    "version": 3
   },
   "file_extension": ".py",
   "mimetype": "text/x-python",
   "name": "python",
   "nbconvert_exporter": "python",
   "pygments_lexer": "ipython3",
   "version": "3.11.4"
  },
  "orig_nbformat": 4
 },
 "nbformat": 4,
 "nbformat_minor": 2
}
