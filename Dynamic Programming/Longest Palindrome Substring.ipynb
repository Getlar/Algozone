{
 "cells": [
  {
   "cell_type": "markdown",
   "metadata": {},
   "source": [
    "## Given a string **s**, return the longest palindromic substring in **s**.\n",
    "----\n",
    "\n",
    "```\n",
    "Input: s = \"babad\"\n",
    "Output: \"bab\"\n",
    "Explanation: \"aba\" is also a valid answer.\n",
    "```\n",
    "```\n",
    "Input: s = \"cbbd\"\n",
    "Output: \"bb\"\n",
    "```\n",
    "----"
   ]
  },
  {
   "cell_type": "markdown",
   "metadata": {},
   "source": [
    "**Solution 1:** Completely brute force method for checking every possible substring whether it is a palindrome or not, then returning the longest found. If the length of the input string is 1 we return its only character. If the string does not contain a palindrome with length bigger than 1 we return the first character as the longest. E.g. for the word *palindrome* we return *p*. This is an **O(n^3)** algorithm with **O(m)** memory complexity, where m is the current longest palindrome. It is **O(n^3)** because we have to also check whether a substring is a palindrome, which is **O(n)**."
   ]
  },
  {
   "cell_type": "code",
   "execution_count": 4,
   "metadata": {},
   "outputs": [],
   "source": [
    "def longestPalindrome(s: str) -> str:\n",
    "    # If the length is 1, return that character\n",
    "    if len(s) == 1:\n",
    "        return s\n",
    "\n",
    "    longestPal = \"\"\n",
    "    \n",
    "    for i in range(len(s) - 1):\n",
    "        for j in range(i + 1, len(s)):\n",
    "            tmp = s[i:j + 1]\n",
    "            # If substring is equal to its reverse\n",
    "            if tmp == tmp[::-1]:\n",
    "                if len(tmp) > len(longestPal):\n",
    "                    longestPal = tmp\n",
    "\n",
    "    # If no double character palindromes were found, just return the first character as a palindrome\n",
    "    if len(longestPal) == 0 and len(s) > 0:\n",
    "        return s[0]\n",
    "    \n",
    "    return longestPal"
   ]
  },
  {
   "cell_type": "code",
   "execution_count": 6,
   "metadata": {},
   "outputs": [
    {
     "name": "stdout",
     "output_type": "stream",
     "text": [
      "p\n",
      "mm\n"
     ]
    }
   ],
   "source": [
    "print(longestPalindrome(\"palindrome\"))\n",
    "print(longestPalindrome(\"gimme\"))"
   ]
  },
  {
   "cell_type": "markdown",
   "metadata": {},
   "source": [
    "**Solution 2:** This method relies heavily on reducing **O(n^3)** time to **O(n^2)** by using an expanding method. We go through every character in the input string and check whether its right and left neighbors are equal. If yes it is a palindrome, and we store it. Memory complexity remains **O(m)**."
   ]
  },
  {
   "cell_type": "code",
   "execution_count": 7,
   "metadata": {},
   "outputs": [],
   "source": [
    "def check(l, r, res, s):\n",
    "        while l >= 0 and r < len(s) and s[l] == s[r]:\n",
    "            if (r - l + 1) > len(res):\n",
    "                res = s[l:r+1]\n",
    "            l -= 1\n",
    "            r += 1\n",
    "        return res\n",
    "\n",
    "class Solution:\n",
    "\n",
    "    def longestPalindrome(self, s: str) -> str:\n",
    "        longestPal = \"\"\n",
    "        for i in range(len(s)):\n",
    "            # even checking\n",
    "            l, r = i, i\n",
    "            longestPal = check(l, r, longestPal, s)\n",
    "            # odd checking\n",
    "            l, r = i, i+1\n",
    "            longestPal = check(l, r, longestPal, s)\n",
    "        return longestPal"
   ]
  },
  {
   "cell_type": "code",
   "execution_count": 8,
   "metadata": {},
   "outputs": [
    {
     "name": "stdout",
     "output_type": "stream",
     "text": [
      "p\n",
      "mm\n"
     ]
    }
   ],
   "source": [
    "print(longestPalindrome(\"palindrome\"))\n",
    "print(longestPalindrome(\"gimme\"))"
   ]
  },
  {
   "cell_type": "markdown",
   "metadata": {},
   "source": [
    "**Solution 3:** Another **O(n^2)** solution is a DP approach, where we build an *nxn* table of zeros. We fill the first diagonal from top left with 1s and continue building the table. Its second diagonal is filled as follows: if s[i] == s[j] we put dp[i][j] = 1. For the rest of the diagonals the same condition must hold + dp[i+1][j-1] has to be as well. We then extract the last i and j position where we put dp[i][j] = 1 then return s[i:j+1]."
   ]
  },
  {
   "cell_type": "code",
   "execution_count": 13,
   "metadata": {},
   "outputs": [],
   "source": [
    "def longestPalindrome(s: str) -> str:\n",
    "    longestPal = \"\"\n",
    "    lastrow, lastcol = 0, 0\n",
    "    bound = len(s)\n",
    "    dp = [[0] * len(s) for _ in range(len(s))]\n",
    "    \n",
    "    for i in range(len(s)):\n",
    "        dp[i][i] = 1\n",
    "\n",
    "    for j in range(1, len(s)):\n",
    "        col = j\n",
    "        row = 0\n",
    "        while row < bound - 1:\n",
    "            if j == 1:\n",
    "                if s[row] == s[col]:\n",
    "                    dp[row][col] = 1\n",
    "                    lastrow, lastcol = row, col\n",
    "            else:\n",
    "                if s[row] == s[col] and dp[row + 1][col - 1] == 1:\n",
    "                    dp[row][col] = 1\n",
    "                    lastrow, lastcol = row, col\n",
    "            row += 1\n",
    "            col += 1 \n",
    "        bound -= 1\n",
    "        \n",
    "    return s[lastrow:lastcol + 1]\n"
   ]
  },
  {
   "cell_type": "code",
   "execution_count": 14,
   "metadata": {},
   "outputs": [
    {
     "name": "stdout",
     "output_type": "stream",
     "text": [
      "p\n",
      "mm\n"
     ]
    }
   ],
   "source": [
    "print(longestPalindrome(\"palindrome\"))\n",
    "print(longestPalindrome(\"gimme\"))"
   ]
  }
 ],
 "metadata": {
  "kernelspec": {
   "display_name": "Python 3",
   "language": "python",
   "name": "python3"
  },
  "language_info": {
   "codemirror_mode": {
    "name": "ipython",
    "version": 3
   },
   "file_extension": ".py",
   "mimetype": "text/x-python",
   "name": "python",
   "nbconvert_exporter": "python",
   "pygments_lexer": "ipython3",
   "version": "3.11.0"
  },
  "orig_nbformat": 4
 },
 "nbformat": 4,
 "nbformat_minor": 2
}
