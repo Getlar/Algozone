{
 "cells": [
  {
   "cell_type": "markdown",
   "metadata": {},
   "source": [
    "## Write a function to find the longest common prefix string amongst an array of strings.\n",
    "\n",
    "If there is no common prefix, return an empty string `\"\"`.\n",
    "\n",
    "----\n",
    "\n",
    "```\n",
    "Input: strs = [\"flower\",\"flow\",\"flight\"]\n",
    "Output: \"fl\"\n",
    "```\n",
    "```\n",
    "Input: strs = [\"dog\",\"racecar\",\"car\"]\n",
    "Output: \"\"\n",
    "Explanation: There is no common prefix among the input strings.\n",
    "```\n",
    "----\n",
    "\n",
    "**Constraints**:\n",
    "\n",
    "- `1 <= strs.length <= 200`\n",
    "- `0 <= strs[i].length <= 200`\n",
    "- `strs[i]` consists of only lowercase English letters."
   ]
  },
  {
   "cell_type": "markdown",
   "metadata": {},
   "source": [
    "**Solution 1:** Searching for the string with the least amount of characters is a must in runtime reduction. A subsequent exhaustive search with early stopping solves the problem in a relatively small amount of time. Runtime is around **O(n*m)**, where **n** is the number of strings and **m** is the length of the longest string."
   ]
  },
  {
   "cell_type": "code",
   "execution_count": 1,
   "metadata": {},
   "outputs": [],
   "source": [
    "from typing import List\n",
    "def longestCommonPrefix(strs: List[str]) -> str:\n",
    "    if not strs:\n",
    "        return \"\"\n",
    "\n",
    "    shortest_string = min(strs, key=len)\n",
    "    longest_substring = \"\"\n",
    "\n",
    "    for i in range(len(shortest_string)):\n",
    "        char = shortest_string[i]\n",
    "        for string_s in strs:\n",
    "            if string_s[i] != char:\n",
    "                return longest_substring\n",
    "        longest_substring += char\n",
    "\n",
    "    return longest_substring"
   ]
  },
  {
   "cell_type": "code",
   "execution_count": 3,
   "metadata": {},
   "outputs": [
    {
     "name": "stdout",
     "output_type": "stream",
     "text": [
      "car\n"
     ]
    }
   ],
   "source": [
    "print(longestCommonPrefix([\"card\", \"cardog\", \"careful\"]))"
   ]
  }
 ],
 "metadata": {
  "kernelspec": {
   "display_name": "base",
   "language": "python",
   "name": "python3"
  },
  "language_info": {
   "codemirror_mode": {
    "name": "ipython",
    "version": 3
   },
   "file_extension": ".py",
   "mimetype": "text/x-python",
   "name": "python",
   "nbconvert_exporter": "python",
   "pygments_lexer": "ipython3",
   "version": "3.11.4"
  },
  "orig_nbformat": 4
 },
 "nbformat": 4,
 "nbformat_minor": 2
}
