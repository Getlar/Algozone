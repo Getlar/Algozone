{
 "cells": [
  {
   "cell_type": "markdown",
   "metadata": {},
   "source": [
    "## Given a string **s**, find the length of the **longest substring** s without repeating characters.\n",
    "```\n",
    "Input: s = \"abcabcbb\"\n",
    "Output: 3\n",
    "Explanation: The answer is \"abc\", with the length of 3.\n",
    "```\n",
    "```\n",
    "Input: s = \"pwwkew\"\n",
    "Output: 3\n",
    "Explanation: The answer is \"wke\", with the length of 3.\n",
    "Notice that the answer must be a substring, \"pwke\" is a subsequence and not a substring.\n",
    "```"
   ]
  },
  {
   "cell_type": "markdown",
   "metadata": {},
   "source": [
    "**Solution 1:** Using a set we can keep track of unique characters in the current substring. We maintain two pointers that represent the boundaries of the current substring. We move these pointers accordingly. This is a O(n^2) algorithm. Memory efficiency is O(m)."
   ]
  },
  {
   "cell_type": "code",
   "execution_count": 5,
   "metadata": {},
   "outputs": [],
   "source": [
    "def lengthOfLongestSubstring(s: str) -> int:\n",
    "        n = len(s)\n",
    "        maxLength = 0\n",
    "        charSet = set()\n",
    "        left = 0\n",
    "        \n",
    "        for right in range(n):\n",
    "            if s[right] not in charSet:\n",
    "                charSet.add(s[right])\n",
    "                maxLength = max(maxLength, right - left + 1)\n",
    "            else:\n",
    "                # We remove until the first occurance of a double character.\n",
    "                while s[right] in charSet:\n",
    "                    charSet.remove(s[left])\n",
    "                    left += 1\n",
    "                charSet.add(s[right])\n",
    "        \n",
    "        return maxLength"
   ]
  },
  {
   "cell_type": "code",
   "execution_count": 6,
   "metadata": {},
   "outputs": [
    {
     "name": "stdout",
     "output_type": "stream",
     "text": [
      "3\n"
     ]
    }
   ],
   "source": [
    "print(lengthOfLongestSubstring(\"pwwkew\"))"
   ]
  },
  {
   "cell_type": "markdown",
   "metadata": {},
   "source": [
    "**Solution 2:** We can use a sliding window approach by storing the last seen indexes of all unique characters. If a second occurance of a character is found, the start of the window jumps. Time complexity is O(n). Memory complexity is O(m) which are all favorable.\n",
    "\n",
    "```\n",
    "indext    0    1    2    3   4   5   6   7\n",
    "string    a    c    b    d   b   a   c   d\n",
    "          ^                  ^\n",
    "          |                  |\n",
    "\t\tleft               right\n",
    "\t\tseen = {a : 0, c : 1, b : 2, d: 3} \n",
    "\t\t# case 1: seen[b] = 2, current window  is s[0:4] , \n",
    "\t\t#        b is inside current window, seen[b] = 2 > left = 0. Move left pointer to seen[b] + 1 = 3\n",
    "\t\tseen = {a : 0, c : 1, b : 4, d: 3} \n",
    "indext    0    1    2    3   4   5   6   7\n",
    "string    a    c    b    d   b   a   c   d\n",
    "\t\t\t\t\t\t ^   ^\n",
    "\t\t\t\t\t     |   |\n",
    "\t\t\t\t      left  right\t\t\n",
    "indext    0    1    2    3   4   5   6   7\n",
    "string    a    c    b    d   b   a   c   d\n",
    "\t\t\t\t\t     ^       ^\n",
    "\t\t\t\t\t     |       |\n",
    "\t\t\t\t       left    right\t\t\n",
    "\t\t# case 2: seen[a] = 0,which means a not in current window s[3:5] , since seen[a] = 0 < left = 3 \n",
    "\t\t# we can keep moving right pointer.\n",
    "```"
   ]
  },
  {
   "cell_type": "code",
   "execution_count": 14,
   "metadata": {},
   "outputs": [],
   "source": [
    "def lengthOfLongestSubstring(s: str) -> int:\n",
    "    seen = {}\n",
    "    l = 0\n",
    "    output = 0\n",
    "    for r in range(len(s)):\n",
    "        if s[r] not in seen:\n",
    "            output = max(output,r-l+1)\n",
    "        else:\n",
    "            if seen[s[r]] < l:\n",
    "                output = max(output,r-l+1)\n",
    "            else:\n",
    "                l = seen[s[r]] + 1\n",
    "        seen[s[r]] = r\n",
    "    return output"
   ]
  },
  {
   "cell_type": "code",
   "execution_count": 15,
   "metadata": {},
   "outputs": [
    {
     "name": "stdout",
     "output_type": "stream",
     "text": [
      "3\n"
     ]
    }
   ],
   "source": [
    "print(lengthOfLongestSubstring(\"pwwkew\"))"
   ]
  }
 ],
 "metadata": {
  "kernelspec": {
   "display_name": "T",
   "language": "python",
   "name": "t"
  },
  "language_info": {
   "codemirror_mode": {
    "name": "ipython",
    "version": 3
   },
   "file_extension": ".py",
   "mimetype": "text/x-python",
   "name": "python",
   "nbconvert_exporter": "python",
   "pygments_lexer": "ipython3",
   "version": "3.8.13"
  },
  "orig_nbformat": 4
 },
 "nbformat": 4,
 "nbformat_minor": 2
}
