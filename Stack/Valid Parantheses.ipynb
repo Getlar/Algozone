{
 "cells": [
  {
   "cell_type": "markdown",
   "metadata": {},
   "source": [
    "## Given a string `s` containing just the characters `'(', ')', '{', '}', '[' and ']'`, determine if the input string is valid.\n",
    "\n",
    "An input string is valid if:\n",
    "\n",
    "- Open brackets must be closed by the same type of brackets.\n",
    "- Open brackets must be closed in the correct order.\n",
    "- Every close bracket has a corresponding open bracket of the same type.\n",
    "\n",
    "----\n",
    "\n",
    "```\n",
    "Input: s = \"()\"\n",
    "Output: true\n",
    "```\n",
    "```\n",
    "Input: s = \"()[]{}\"\n",
    "Output: true\n",
    "```\n",
    "```\n",
    "Input: s = \"(]\"\n",
    "Output: false\n",
    "```\n",
    "----\n",
    "\n",
    "**Constraints**:\n",
    "\n",
    "- `1 <= s.length <= 104`\n",
    "- `s` consists of parentheses only `'()[]{}'`."
   ]
  },
  {
   "cell_type": "markdown",
   "metadata": {},
   "source": [
    "**Solution 1:** Using a stack we and a hashmap we can easily check for paranthesis pairs. **O(n)** solution."
   ]
  },
  {
   "cell_type": "code",
   "execution_count": 3,
   "metadata": {},
   "outputs": [],
   "source": [
    "class Solution:\n",
    "    @staticmethod\n",
    "    def isValid(self, s: str) -> bool:\n",
    "        stack = []  # Initialize an empty stack to store opening brackets\n",
    "        \n",
    "        # Define a dictionary for mapping opening and closing brackets\n",
    "        bracket_map = {\")\": \"(\", \"}\": \"{\", \"]\": \"[\"}\n",
    "        \n",
    "        for char in s:\n",
    "            if char in bracket_map:  # If it's a closing bracket\n",
    "                top_element = stack.pop() if stack else '#'  # Pop the top element from the stack if it's not empty; use '#' as a placeholder\n",
    "                if top_element != bracket_map[char]:  # Check if the popped element matches the expected opening bracket\n",
    "                    return False\n",
    "            else:  # If it's an opening bracket, push it onto the stack\n",
    "                stack.append(char)\n",
    "        \n",
    "        # After processing the entire string, the stack should be empty if all brackets are matched\n",
    "        return not stack"
   ]
  },
  {
   "cell_type": "code",
   "execution_count": 6,
   "metadata": {},
   "outputs": [
    {
     "name": "stdout",
     "output_type": "stream",
     "text": [
      "True\n"
     ]
    }
   ],
   "source": [
    "print(Solution.isValid(Solution, \"({})\"))\n",
    "assert Solution.isValid(Solution, \"({})\") == True"
   ]
  },
  {
   "cell_type": "markdown",
   "metadata": {},
   "source": [
    "**Solution 2:** Another bozo solution is to keep iteratively remove pairs of brackets until they cannot be simplified further. If brackets are still in the string, it has an incorrect format. Time complexity is **O(3n * m)** which is linear."
   ]
  },
  {
   "cell_type": "code",
   "execution_count": 16,
   "metadata": {},
   "outputs": [],
   "source": [
    "class Solution2:\n",
    "    @staticmethod\n",
    "    def isValid(s: str) -> bool:\n",
    "        while '()' in s or '[]'in s or '{}' in s:\n",
    "            s = s.replace('()','').replace('[]','').replace('{}','')\n",
    "        return False if len(s) !=0 else True"
   ]
  },
  {
   "cell_type": "code",
   "execution_count": 18,
   "metadata": {},
   "outputs": [
    {
     "name": "stdout",
     "output_type": "stream",
     "text": [
      "True\n"
     ]
    }
   ],
   "source": [
    "print(Solution2.isValid(\"([({})[]])\"))"
   ]
  }
 ],
 "metadata": {
  "kernelspec": {
   "display_name": "Python 3",
   "language": "python",
   "name": "python3"
  },
  "language_info": {
   "codemirror_mode": {
    "name": "ipython",
    "version": 3
   },
   "file_extension": ".py",
   "mimetype": "text/x-python",
   "name": "python",
   "nbconvert_exporter": "python",
   "pygments_lexer": "ipython3",
   "version": "3.11.0"
  },
  "orig_nbformat": 4
 },
 "nbformat": 4,
 "nbformat_minor": 2
}
