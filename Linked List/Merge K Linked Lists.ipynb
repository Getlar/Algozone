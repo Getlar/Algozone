{
 "cells": [
  {
   "cell_type": "markdown",
   "metadata": {},
   "source": [
    "## You are given an array of `k` linked-lists `lists`, each linked-list is sorted in ascending order.\n",
    "\n",
    "Merge all the linked-lists into one sorted linked-list and return it.\n",
    "\n",
    "----\n",
    "\n",
    "```\n",
    "Input: lists = [[1,4,5],[1,3,4],[2,6]]\n",
    "Output: [1,1,2,3,4,4,5,6]\n",
    "Explanation: The linked-lists are:\n",
    "[\n",
    "  1->4->5,\n",
    "  1->3->4,\n",
    "  2->6\n",
    "]\n",
    "merging them into one sorted list:\n",
    "1->1->2->3->4->4->5->6\n",
    "```\n",
    "```\n",
    "Input: lists = []\n",
    "Output: []\n",
    "```\n",
    "```\n",
    "Input: lists = [[]]\n",
    "Output: []\n",
    "```\n",
    "----\n",
    "\n",
    "**Constraints:**\n",
    "\n",
    "- `k == lists.length`\n",
    "- `0 <= k <= 104`\n",
    "- `0 <= lists[i].length <= 500`\n",
    "- `-104 <= lists[i][j] <= 104`\n",
    "- `lists[i]` is sorted in **ascending order**.\n",
    "- The sum of `lists[i].length` will not exceed `10^4`.\n"
   ]
  },
  {
   "cell_type": "markdown",
   "metadata": {},
   "source": [
    "**Solution 1:** One slow solution is to call mergeTwoLists k-1 times. Algorithms is very slow."
   ]
  },
  {
   "cell_type": "code",
   "execution_count": 1,
   "metadata": {},
   "outputs": [],
   "source": [
    "from typing import Optional, List\n",
    "\n",
    "class ListNode:\n",
    "    def __init__(self, val=0, next=None):\n",
    "        self.val = val\n",
    "        self.next = next\n",
    "\n",
    "def build_linked_list(values):\n",
    "    if not values:\n",
    "        return None\n",
    "    \n",
    "    head = ListNode(values[0])\n",
    "    current = head\n",
    "\n",
    "    for val in values[1:]:\n",
    "        current.next = ListNode(val)\n",
    "        current = current.next\n",
    "\n",
    "    return head\n",
    "\n",
    "def print_linked_list(head):\n",
    "    current = head\n",
    "    while current:\n",
    "        print(current.val, end=\" -> \")\n",
    "        current = current.next\n",
    "    print(\"None\")\n",
    "\n",
    "class Solution:\n",
    "\n",
    "    @staticmethod\n",
    "    def mergeKLists(lists: List[Optional[ListNode]]) -> Optional[ListNode]:\n",
    "\n",
    "        def mergeTwoLists(list1: Optional[ListNode], list2: Optional[ListNode]) -> Optional[ListNode]:\n",
    "            leftIterator = list1\n",
    "            rightIterator = list2\n",
    "            result = ListNode(0, None)\n",
    "            current = result\n",
    "\n",
    "            while leftIterator is not None and rightIterator is not None:\n",
    "                if leftIterator.val <= rightIterator.val:\n",
    "                    current.next = leftIterator\n",
    "                    leftIterator = leftIterator.next\n",
    "                else:\n",
    "                    current.next = rightIterator\n",
    "                    rightIterator = rightIterator.next\n",
    "                current = current.next\n",
    "\n",
    "            if leftIterator is not None:\n",
    "                current.next = leftIterator\n",
    "            else:\n",
    "                current.next = rightIterator\n",
    "\n",
    "            return result.next\n",
    "        \n",
    "        if not lists:\n",
    "            return None\n",
    "\n",
    "        list1 = lists[0]\n",
    "        for i in range(1, len(lists)):\n",
    "            list1 = mergeTwoLists(list1, lists[i])\n",
    "        \n",
    "        return list1\n",
    "        "
   ]
  },
  {
   "cell_type": "code",
   "execution_count": 2,
   "metadata": {},
   "outputs": [
    {
     "name": "stdout",
     "output_type": "stream",
     "text": [
      "1 -> 2 -> 3 -> 3 -> 4 -> 5 -> 5 -> 6 -> 7 -> 8 -> 9 -> None\n"
     ]
    }
   ],
   "source": [
    "head = build_linked_list([1,2,3,4,5])\n",
    "head2 = build_linked_list([3,5,6,7,8,9])\n",
    "print_linked_list(Solution.mergeKLists([head, head2]))"
   ]
  },
  {
   "cell_type": "markdown",
   "metadata": {},
   "source": [
    "**Solution 2:** A much faster solution is to use D&Q algorithm to merge every pair of lists than continue the same with the merged lists."
   ]
  },
  {
   "cell_type": "code",
   "execution_count": 3,
   "metadata": {},
   "outputs": [],
   "source": [
    "class Solution2:\n",
    "    def merge(self, left: ListNode, right: ListNode) -> ListNode:\n",
    "        dummy = ListNode(-1)\n",
    "        temp = dummy\n",
    "        while left and right:\n",
    "            if left.val < right.val:\n",
    "                temp.next = left\n",
    "                temp = temp.next\n",
    "                left = left.next\n",
    "            else:\n",
    "                temp.next = right\n",
    "                temp = temp.next\n",
    "                right = right.next\n",
    "        while left:\n",
    "            temp.next = left\n",
    "            temp = temp.next\n",
    "            left = left.next\n",
    "        while right:\n",
    "            temp.next = right\n",
    "            temp = temp.next\n",
    "            right = right.next\n",
    "        return dummy.next\n",
    "    \n",
    "    def mergeSort(self, lists: List[ListNode], start: int, end: int) -> ListNode:\n",
    "        if start == end:\n",
    "            return lists[start]\n",
    "        mid = start + (end - start) // 2\n",
    "        left = self.mergeSort(lists, start, mid)\n",
    "        right = self.mergeSort(lists, mid + 1, end)\n",
    "        return self.merge(left, right)\n",
    "    \n",
    "    def mergeKLists(self, lists: List[ListNode]) -> ListNode:  # Use self here\n",
    "        if not lists:\n",
    "            return None\n",
    "        return self.mergeSort(lists, 0, len(lists) - 1)  # Use self here\n"
   ]
  },
  {
   "cell_type": "code",
   "execution_count": 6,
   "metadata": {},
   "outputs": [
    {
     "name": "stdout",
     "output_type": "stream",
     "text": [
      "1 -> 2 -> 3 -> 3 -> 4 -> 5 -> 5 -> 6 -> 7 -> 8 -> 9 -> None\n"
     ]
    }
   ],
   "source": [
    "head = build_linked_list([1,2,3,4,5])\n",
    "head2 = build_linked_list([3,5,6,7,8,9])\n",
    "sol2 = Solution2()\n",
    "print_linked_list(sol2.mergeKLists(sol2, [head, head2]))"
   ]
  }
 ],
 "metadata": {
  "kernelspec": {
   "display_name": "Python 3",
   "language": "python",
   "name": "python3"
  },
  "language_info": {
   "codemirror_mode": {
    "name": "ipython",
    "version": 3
   },
   "file_extension": ".py",
   "mimetype": "text/x-python",
   "name": "python",
   "nbconvert_exporter": "python",
   "pygments_lexer": "ipython3",
   "version": "3.11.0"
  },
  "orig_nbformat": 4
 },
 "nbformat": 4,
 "nbformat_minor": 2
}
