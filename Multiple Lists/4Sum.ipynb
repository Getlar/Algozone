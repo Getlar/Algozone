{
 "cells": [
  {
   "cell_type": "markdown",
   "metadata": {},
   "source": [
    "## Given an array nums of `n` integers, return an array of all the unique quadruplets `[nums[a], nums[b], nums[c], nums[d]]` such that:\n",
    "\n",
    "- `0 <= a, b, c, d < n`\n",
    "- `a, b, c, and d` are distinct.\n",
    "- `nums[a] + nums[b] + nums[c] + nums[d] == target`\n",
    "\n",
    "You may return the answer in **any order**.\n",
    "\n",
    "----\n",
    "\n",
    "```\n",
    "Input: nums = [1,0,-1,0,-2,2], target = 0\n",
    "Output: [[-2,-1,1,2],[-2,0,0,2],[-1,0,0,1]]\n",
    "```\n",
    "```\n",
    "Input: nums = [2,2,2,2,2], target = 8\n",
    "Output: [[2,2,2,2]]\n",
    "```\n",
    "----\n",
    "\n",
    "**Constraints:**\n",
    "\n",
    "- `1 <= nums.length <= 200`\n",
    "- `10^9 <= nums[i] <= 10^9`\n",
    "- `10^9 <= target <= 10^9`\n"
   ]
  },
  {
   "cell_type": "markdown",
   "metadata": {},
   "source": [
    "**Solution 1:** **O(n^3)** solution using the `twoSum` method recursively. "
   ]
  },
  {
   "cell_type": "code",
   "execution_count": 4,
   "metadata": {},
   "outputs": [],
   "source": [
    "from typing import List\n",
    "class Solution:\n",
    "    def fourSum(self, nums: List[int], target: int) -> List[List[int]]:\n",
    "        nums.sort()\n",
    "        results = []\n",
    "        self.helper(nums, target, 4, [], results)\n",
    "        return results\n",
    "    \n",
    "    def helper(self, nums, target, N, res, results):\n",
    "        \n",
    "        if len(nums) < N or N < 2:\n",
    "            return\n",
    "        if N == 2:\n",
    "            output_2sum = self.twoSum(nums, target)\n",
    "            if output_2sum != []:\n",
    "                for idx in output_2sum:\n",
    "                    results.append(res + idx)\n",
    "        \n",
    "        else: \n",
    "            for i in range(len(nums) - N + 1):\n",
    "                if nums[i] * N > target or nums[-1] * N < target:\n",
    "                    break\n",
    "                if i == 0 or i > 0 and nums[i-1] != nums[i]:\n",
    "                    self.helper(nums[i+1:], target-nums[i], N-1, res + [nums[i]], results)\n",
    "    \n",
    "    \n",
    "    def twoSum(self, nums: List[int], target: int) -> List[int]:\n",
    "        res = []\n",
    "        left = 0\n",
    "        right = len(nums) - 1 \n",
    "        while left < right: \n",
    "            temp_sum = nums[left] + nums[right] \n",
    "\n",
    "            if temp_sum == target:\n",
    "                res.append([nums[left], nums[right]])\n",
    "                right -= 1\n",
    "                left += 1\n",
    "                while left < right and nums[left] == nums[left - 1]:\n",
    "                    left += 1\n",
    "                while right > left and nums[right] == nums[right + 1]:\n",
    "                    right -= 1\n",
    "                                \n",
    "            elif temp_sum < target: \n",
    "                left +=1 \n",
    "            else: \n",
    "                right -= 1\n",
    "                                        \n",
    "        return res"
   ]
  },
  {
   "cell_type": "code",
   "execution_count": 5,
   "metadata": {},
   "outputs": [
    {
     "name": "stdout",
     "output_type": "stream",
     "text": [
      "[[-2, -1, 1, 2], [-2, 0, 0, 2], [-1, 0, 0, 1]]\n"
     ]
    }
   ],
   "source": [
    "sol = Solution()\n",
    "print(sol.fourSum([1,0,-1,0,-2,2], 0))"
   ]
  }
 ],
 "metadata": {
  "kernelspec": {
   "display_name": "Python 3",
   "language": "python",
   "name": "python3"
  },
  "language_info": {
   "codemirror_mode": {
    "name": "ipython",
    "version": 3
   },
   "file_extension": ".py",
   "mimetype": "text/x-python",
   "name": "python",
   "nbconvert_exporter": "python",
   "pygments_lexer": "ipython3",
   "version": "3.11.4"
  },
  "orig_nbformat": 4
 },
 "nbformat": 4,
 "nbformat_minor": 2
}
