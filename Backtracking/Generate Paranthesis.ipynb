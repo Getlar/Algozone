{
 "cells": [
  {
   "cell_type": "markdown",
   "metadata": {},
   "source": [
    "## Given `n` pairs of parentheses, write a function to generate **all combinations of well-formed parentheses**.\n",
    "\n",
    "----\n",
    "\n",
    "```\n",
    "Input: n = 3\n",
    "Output: [\"((()))\",\"(()())\",\"(())()\",\"()(())\",\"()()()\"]\n",
    "```\n",
    "```\n",
    "Input: n = 1\n",
    "Output: [\"()\"]\n",
    "```\n",
    "\n",
    "----\n",
    "\n",
    "**Constraints**:\n",
    "\n",
    "- `1 <= n <= 8`"
   ]
  },
  {
   "cell_type": "markdown",
   "metadata": {},
   "source": [
    "**Solution 1:** Using backtracking with DFS we can easily build and append all possible correct paranthesis combinations. Runtime is **O(nlogn)**."
   ]
  },
  {
   "cell_type": "code",
   "execution_count": 4,
   "metadata": {},
   "outputs": [],
   "source": [
    "from typing import List\n",
    "\n",
    "class Solution:\n",
    "\t@staticmethod\n",
    "\tdef generateParenthesis(n: int) -> List[str]:\n",
    "\t\tdef dfs(left, right, s):\n",
    "\t\t\tif len(s) == n * 2:\n",
    "\t\t\t\tres.append(s)\n",
    "\t\t\t\treturn \n",
    "\t\t\t\t\n",
    "\t\t\tif left < n:\n",
    "\t\t\t\tdfs(left + 1, right, s + '(')\n",
    "\n",
    "\t\t\tif right < left:\n",
    "\t\t\t\tdfs(left, right + 1, s + ')')\n",
    "\n",
    "\t\tres = []\n",
    "\t\tdfs(0, 0, '')\n",
    "\t\treturn res"
   ]
  },
  {
   "cell_type": "code",
   "execution_count": 5,
   "metadata": {},
   "outputs": [
    {
     "name": "stdout",
     "output_type": "stream",
     "text": [
      "['((()))', '(()())', '(())()', '()(())', '()()()']\n"
     ]
    }
   ],
   "source": [
    "print(Solution.generateParenthesis(3))"
   ]
  },
  {
   "cell_type": "markdown",
   "metadata": {},
   "source": [
    "**Solution 2:** Another bozo solution is to keep iteratively remove pairs of brackets until they cannot be simplified further. If brackets are still in the string, it has an incorrect format. Time complexity is **O(3n * m)** which is linear."
   ]
  },
  {
   "cell_type": "code",
   "execution_count": 8,
   "metadata": {},
   "outputs": [],
   "source": [
    "class Solution2:\n",
    "    @staticmethod\n",
    "    def generateParenthesis(n: int) -> List[str]:\n",
    "        ans=[]\n",
    "        def backtracking(p,n,r):\n",
    "            if p==0 and n==0:\n",
    "                ans.append(r)\n",
    "            elif r[-1]<0:\n",
    "                for i in range(1,p+1):\n",
    "                    backtracking(p-i,n,r+[i])\n",
    "            else:\n",
    "                for i in range(1,sum(r)+1):\n",
    "                    backtracking(p,n-i,r+[-i])\n",
    "        \n",
    "        for i in range(1,n+1):\n",
    "            backtracking(n-i,n-1,[i])\n",
    "        res=[]\n",
    "        for i in ans:\n",
    "            print(i)\n",
    "            x=\"\"\n",
    "            for j in i:\n",
    "                if j>0:\n",
    "                    for k in range(j):\n",
    "                        x+=\"(\"\n",
    "                else:\n",
    "                    for k in range(abs(j)):\n",
    "                        x+=\")\"\n",
    "            x+=\")\"\n",
    "            res.append(x)\n",
    "        return res"
   ]
  },
  {
   "cell_type": "code",
   "execution_count": 7,
   "metadata": {},
   "outputs": [
    {
     "name": "stdout",
     "output_type": "stream",
     "text": [
      "['()()()', '()(())', '(()())', '(())()', '((()))']\n"
     ]
    }
   ],
   "source": [
    "print(Solution2.generateParenthesis(3))"
   ]
  }
 ],
 "metadata": {
  "kernelspec": {
   "display_name": "Python 3",
   "language": "python",
   "name": "python3"
  },
  "language_info": {
   "codemirror_mode": {
    "name": "ipython",
    "version": 3
   },
   "file_extension": ".py",
   "mimetype": "text/x-python",
   "name": "python",
   "nbconvert_exporter": "python",
   "pygments_lexer": "ipython3",
   "version": "3.11.0"
  },
  "orig_nbformat": 4
 },
 "nbformat": 4,
 "nbformat_minor": 2
}
