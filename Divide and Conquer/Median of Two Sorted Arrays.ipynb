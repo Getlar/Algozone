{
 "cells": [
  {
   "cell_type": "markdown",
   "metadata": {},
   "source": [
    "## Given two sorted arrays **nums1** and **nums2** of size **m** and **n** respectively, return the **median** of the two sorted arrays.\n",
    "\n",
    "The overall run time complexity should be O(log(m+n)).\n",
    "\n",
    "----\n",
    "\n",
    "```\n",
    "Input: nums1 = [1,3], nums2 = [2]\n",
    "Output: 2.00000\n",
    "Explanation: merged array = [1,2,3] and median is 2.\n",
    "```\n",
    "```\n",
    "Input: nums1 = [1,2], nums2 = [3,4]\n",
    "Output: 2.50000\n",
    "Explanation: merged array = [1,2,3,4] and median is (2 + 3) / 2 = 2.5.\n",
    "```\n",
    "----"
   ]
  },
  {
   "cell_type": "markdown",
   "metadata": {},
   "source": [
    "**Solution 1:** The first solution does not run in logarithmic time, however it is most efficient in terms of clean code and readability. The code is shorter but uses the **sort()** function which automatically makes the algorithm linear."
   ]
  },
  {
   "cell_type": "code",
   "execution_count": null,
   "metadata": {},
   "outputs": [],
   "source": [
    "def findMedianSortedArrays(nums1: List[int], nums2: List[int]) -> float:\n",
    "        #return median(sorted(nums1 + nums2))\n",
    "        sortedMerge = sorted(nums1 + nums2)\n",
    "        length = len(sortedMerge)\n",
    "        if length % 2 == 0:\n",
    "            return (sortedMerge[int(length/2)] + sortedMerge[int(length/2 - 1)])/2\n",
    "        return sortedMerge[floor(length/2)]"
   ]
  },
  {
   "cell_type": "markdown",
   "metadata": {},
   "source": [
    "**Solution 2:** The logarithmic solution uses Divide and Conquer (D&Q)."
   ]
  },
  {
   "cell_type": "code",
   "execution_count": null,
   "metadata": {},
   "outputs": [],
   "source": [
    "def findMedianSortedArrays(a, b):\n",
    "    l = len(a) + len(b)\n",
    "    if l % 2:\n",
    "        return get_median(a, b, l // 2)\n",
    "    else:\n",
    "        return (get_median(a, b, l // 2) + get_median(a, b, l // 2 - 1)) / 2\n",
    "\n",
    "def get_median(self, a, b, idx):\n",
    "    if not a:\n",
    "        return b[idx]\n",
    "    if not b:\n",
    "        return a[idx]\n",
    "\n",
    "    ai = len(a) // 2\n",
    "    bi = len(b) // 2\n",
    "    ma = a[ai]\n",
    "    mb = b[bi]\n",
    "\n",
    "    if ma > mb:\n",
    "        ma, mb = mb, ma\n",
    "        ai, bi = bi, ai\n",
    "        a, b = b, a\n",
    "\n",
    "    max_idx_ma = len(a) // 2 + len(b) // 2\n",
    "\n",
    "    if max_idx_ma < idx:\n",
    "        med = get_median(a[ai + 1:], b, idx - (len(a) // 2 + 1))\n",
    "    else:\n",
    "        # max_idx_ma < min_idx_mb (because they are different numbers) \n",
    "        # => idx <= max_idx_ma <  min_idx_mb => idx < min_idx_mb\n",
    "        med = get_median(a, b[:bi], idx)\n",
    "\n",
    "    return med"
   ]
  },
  {
   "cell_type": "code",
   "execution_count": null,
   "metadata": {},
   "outputs": [],
   "source": [
    "findMedianSortedArrays()"
   ]
  }
 ],
 "metadata": {
  "kernelspec": {
   "display_name": "new",
   "language": "python",
   "name": "python3"
  },
  "language_info": {
   "name": "python",
   "version": "3.10.6"
  },
  "orig_nbformat": 4
 },
 "nbformat": 4,
 "nbformat_minor": 2
}
