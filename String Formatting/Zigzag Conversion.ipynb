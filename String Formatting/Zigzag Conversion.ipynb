{
 "cells": [
  {
   "cell_type": "markdown",
   "metadata": {},
   "source": [
    "## The string \"PAYPALISHIRING\" is written in a zigzag pattern on a given number of rows like this: (you may want to display this pattern in a fixed font for better legibility). Following example is for numRows = 3.\n",
    "----\n",
    "\n",
    "```\n",
    "P   A   H   N\n",
    "A P L S I I G\n",
    "Y   I   R\n",
    "```\n",
    "```\n",
    "Input: s = \"PAYPALISHIRING\", numRows = 3\n",
    "Output: \"PAHNAPLSIIGYIR\"\n",
    "```\n",
    "```\n",
    "Input: s = \"PAYPALISHIRING\", numRows = 4\n",
    "Output: \"PINALSIGYAHRPI\"\n",
    "Explanation:\n",
    "P     I    N\n",
    "A   L S  I G\n",
    "Y A   H R\n",
    "P     I\n",
    "```\n",
    "```\n",
    "Input: s = \"A\", numRows = 1\n",
    "Output: \"A\"\n",
    "```\n",
    "----"
   ]
  },
  {
   "cell_type": "markdown",
   "metadata": {},
   "source": [
    "**Solution 1:** We create our final string row by row. \n",
    "\n",
    "![Image](image.jpg)\n",
    "\n",
    "For the first row, A is 8 away from I. (B, C, D, E, F, G, H, I) I is 8 away from Q and so on. Therefore for the first and last row our index needs to be *(numRows - 1 x 2)* which is *4 x 2 = 8* here. For the middle rows where i > 0 and < numRows - 1 we need to add the diagonal characters as well. For B, H is 6 away, for C, G is 4 away and F is 2 away from D. We can decrease this index using i. We calculate this in the diagonal diff, and just add it to the current index. This is roughly an O(m * numRows) algorithm. \n"
   ]
  },
  {
   "cell_type": "code",
   "execution_count": 2,
   "metadata": {},
   "outputs": [],
   "source": [
    "def convert(s: str, numRows: int) -> str:\n",
    "    if numRows == 1:\n",
    "        return s\n",
    "    \n",
    "    n = len(s)\n",
    "    diff = 2 * (numRows - 1)\n",
    "    answer = []\n",
    "    \n",
    "    for i in range(numRows):\n",
    "        index = i\n",
    "        diagonal_diff = diff - 2 * i\n",
    "        \n",
    "        while index < n:\n",
    "            answer.append(s[index])\n",
    "            \n",
    "            if i != 0 and i != numRows - 1:\n",
    "                second_index = index + diagonal_diff\n",
    "                if second_index < n:\n",
    "                    answer.append(s[second_index])\n",
    "            \n",
    "            index += diff\n",
    "    \n",
    "    return ''.join(answer)"
   ]
  },
  {
   "cell_type": "code",
   "execution_count": 4,
   "metadata": {},
   "outputs": [
    {
     "name": "stdout",
     "output_type": "stream",
     "text": [
      "PAHNAPLSIIGYIR\n"
     ]
    }
   ],
   "source": [
    "print(convert(\"PAYPALISHIRING\", 3))"
   ]
  }
 ],
 "metadata": {
  "kernelspec": {
   "display_name": "Python 3",
   "language": "python",
   "name": "python3"
  },
  "language_info": {
   "codemirror_mode": {
    "name": "ipython",
    "version": 3
   },
   "file_extension": ".py",
   "mimetype": "text/x-python",
   "name": "python",
   "nbconvert_exporter": "python",
   "pygments_lexer": "ipython3",
   "version": "3.10.6"
  },
  "orig_nbformat": 4
 },
 "nbformat": 4,
 "nbformat_minor": 2
}
