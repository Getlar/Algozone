{
 "cells": [
  {
   "cell_type": "markdown",
   "metadata": {},
   "source": [
    "## Given the `head` of a linked list, reverse the nodes of the list `k` at a time, and return the modified list.\n",
    "\n",
    "`k` is a positive integer and is less than or equal to the length of the linked list. If the number of nodes is not a multiple of `k` then left-out nodes, in the end, should remain as it is.\n",
    "\n",
    "You may not alter the values in the list's nodes, only nodes themselves may be changed.\n",
    "\n",
    "![Max-Height](reverse_ex1.jpg)\n",
    "----\n",
    "\n",
    "```\n",
    "Input: head = [1,2,3,4,5], k = 2\n",
    "Output: [2,1,4,3,5]\n",
    "```\n",
    "```\n",
    "Input: head = [1,2,3,4,5], k = 3\n",
    "Output: [3,2,1,4,5]\n",
    "\n",
    "```\n",
    "----\n",
    "\n",
    "**Constraints:**\n",
    "\n",
    "- The number of nodes in the list is `n`.\n",
    "- `0 <= Node.val <= 1000`\n",
    "- `1 <= k <= n <= 5000`\n"
   ]
  },
  {
   "cell_type": "markdown",
   "metadata": {},
   "source": [
    "**Solution 1:** Iterative solution using no helper functions. **O(n)**"
   ]
  },
  {
   "cell_type": "code",
   "execution_count": 1,
   "metadata": {},
   "outputs": [],
   "source": [
    "from typing import Optional\n",
    "class ListNode:\n",
    "    def __init__(self, val=0, next=None):\n",
    "        self.val = val\n",
    "        self.next = next\n",
    "\n",
    "def build_linked_list(values):\n",
    "    if not values:\n",
    "        return None\n",
    "    \n",
    "    head = ListNode(values[0])\n",
    "    current = head\n",
    "\n",
    "    for val in values[1:]:\n",
    "        current.next = ListNode(val)\n",
    "        current = current.next\n",
    "\n",
    "    return head\n",
    "\n",
    "def print_linked_list(head):\n",
    "    current = head\n",
    "    while current:\n",
    "        print(current.val, end=\" -> \")\n",
    "        current = current.next\n",
    "    print(\"None\")\n",
    "\n",
    "class Solution:\n",
    "    @staticmethod\n",
    "    def reverseKGroup(head: Optional[ListNode], k: int) -> Optional[ListNode]:\n",
    "        count=0\n",
    "        temp=head\n",
    "        while temp:\n",
    "            temp=temp.next\n",
    "            count+=1\n",
    "        n=count//k\n",
    "        prev=dummy=ListNode()\n",
    "        dummy.next=head\n",
    "        while n:\n",
    "            curr=prev.next\n",
    "            nex=curr.next\n",
    "            print_linked_list(dummy)\n",
    "            print_linked_list(prev)\n",
    "            print_linked_list(curr)\n",
    "            print_linked_list(nex)\n",
    "            for i in range(1,k):\n",
    "                curr.next=nex.next\n",
    "                nex.next=prev.next\n",
    "                prev.next=nex\n",
    "                nex=curr.next\n",
    "            prev=curr\n",
    "            n-=1\n",
    "        return dummy.next\n"
   ]
  },
  {
   "cell_type": "code",
   "execution_count": 2,
   "metadata": {},
   "outputs": [
    {
     "name": "stdout",
     "output_type": "stream",
     "text": [
      "2 -> 1 -> 4 -> 3 -> 5 -> None\n"
     ]
    }
   ],
   "source": [
    "head = build_linked_list([1,2,3,4,5])\n",
    "print_linked_list(Solution.reverseKGroup(head, 2))"
   ]
  },
  {
   "cell_type": "markdown",
   "metadata": {},
   "source": [
    "**Solution 2:** Iterative solution using with helper functions. **O(n)**"
   ]
  },
  {
   "cell_type": "code",
   "execution_count": 3,
   "metadata": {},
   "outputs": [],
   "source": [
    "class Solution2:\n",
    "    def rev(self,head,k):\n",
    "        prev = None\n",
    "        temp = k\n",
    "        thead = head\n",
    "        while thead:\n",
    "            thead = thead.next\n",
    "            temp-=1\n",
    "        if temp>0:\n",
    "            return head,None,None,False\n",
    "        tail = head\n",
    "        while head and k>0:\n",
    "            k-=1\n",
    "            cur = head.next\n",
    "            head.next = prev\n",
    "            prev = head\n",
    "            head = cur\n",
    "        return prev,tail,head,True\n",
    "    \n",
    "    def reverseKGroup(self, head: Optional[ListNode], k: int) -> Optional[ListNode]:\n",
    "        h,t,n,f = self.rev(head,k)\n",
    "        while f:\n",
    "            hh,tt,nn,f=self.rev(n,k)\n",
    "            t.next=hh\n",
    "            t = tt\n",
    "            n = nn\n",
    "        return h"
   ]
  },
  {
   "cell_type": "code",
   "execution_count": 5,
   "metadata": {},
   "outputs": [
    {
     "name": "stdout",
     "output_type": "stream",
     "text": [
      "2 -> 1 -> 4 -> 3 -> 5 -> None\n"
     ]
    }
   ],
   "source": [
    "head = build_linked_list([1,2,3,4,5])\n",
    "print_linked_list(Solution2.reverseKGroup(Solution2(),head, 2))"
   ]
  }
 ],
 "metadata": {
  "kernelspec": {
   "display_name": "Python 3",
   "language": "python",
   "name": "python3"
  },
  "language_info": {
   "codemirror_mode": {
    "name": "ipython",
    "version": 3
   },
   "file_extension": ".py",
   "mimetype": "text/x-python",
   "name": "python",
   "nbconvert_exporter": "python",
   "pygments_lexer": "ipython3",
   "version": "3.11.0"
  },
  "orig_nbformat": 4
 },
 "nbformat": 4,
 "nbformat_minor": 2
}
