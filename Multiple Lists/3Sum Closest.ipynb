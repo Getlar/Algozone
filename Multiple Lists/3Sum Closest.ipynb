{
 "cells": [
  {
   "cell_type": "markdown",
   "metadata": {},
   "source": [
    "## Given an integer array `nums` of length `n` and an integer `target`, find three integers in `nums` such that the sum is closest to `target`.\n",
    "\n",
    "Return the sum of the three integers.\n",
    "\n",
    "You may assume that each input would have exactly one solution.\n",
    "\n",
    "----\n",
    "\n",
    "```\n",
    "Input: nums = [-1,2,1,-4], target = 1\n",
    "Output: 2\n",
    "Explanation: The sum that is closest to the target is 2. (-1 + 2 + 1 = 2).\n",
    "```\n",
    "```\n",
    "Input: nums = [0,1,1]\n",
    "Output: []\n",
    "Explanation: The only possible triplet does not sum up to 0.\n",
    "\n",
    "```\n",
    "```\n",
    "Input: nums = [0,0,0], target = 1\n",
    "Output: 0\n",
    "Explanation: The sum that is closest to the target is 0. (0 + 0 + 0 = 0).\n",
    "```\n",
    "----\n",
    "\n",
    "**Constraints:**\n",
    "\n",
    "- `3 <= nums.length <= 500`\n",
    "- `-1000 <= nums[i] <= 1000`\n",
    "- `-10^4 <= target <= 10^4`\n"
   ]
  },
  {
   "cell_type": "markdown",
   "metadata": {},
   "source": [
    "**Solution 1:** Using sort to our advantage we can find the closes solution using moving pointers in **O(n^2)** time."
   ]
  },
  {
   "cell_type": "code",
   "execution_count": 1,
   "metadata": {},
   "outputs": [],
   "source": [
    "from typing import List\n",
    "class Solution:\n",
    "\n",
    "    @staticmethod\n",
    "    def threeSumClosest(nums: List[int], target: int) -> int:\n",
    "        closest = float('inf')\n",
    "        nums.sort()\n",
    "        for i in range(len(nums) - 2):\n",
    "            l, r = i + 1, len(nums) - 1\n",
    "            while l < r:\n",
    "                sum3 = nums[i] + nums[l] + nums[r]\n",
    "                if sum3 == target:\n",
    "                    return target\n",
    "\n",
    "                if sum3 < target:\n",
    "                    l += 1\n",
    "                else:\n",
    "                    r -=1\n",
    "\n",
    "                if abs(sum3 - target) < abs(closest - target):\n",
    "                    closest = sum3\n",
    "                    \n",
    "        return closest\n"
   ]
  },
  {
   "cell_type": "code",
   "execution_count": 2,
   "metadata": {},
   "outputs": [
    {
     "name": "stdout",
     "output_type": "stream",
     "text": [
      "3\n"
     ]
    }
   ],
   "source": [
    "print(Solution.threeSumClosest([-1,0,1,2,-1,-4], 3))"
   ]
  },
  {
   "cell_type": "markdown",
   "metadata": {},
   "source": [
    "**Solution 2:** Bit faster solution and also recursive. It is able to solve for any k."
   ]
  },
  {
   "cell_type": "code",
   "execution_count": 5,
   "metadata": {},
   "outputs": [],
   "source": [
    "class Solution:\n",
    "\n",
    "    @staticmethod\n",
    "    def threeSumClosest(nums: List[int], target: int) -> int:\n",
    "        nums.sort()\n",
    "        return Solution.kSumClosest(nums, 3, target)\n",
    "    \n",
    "    @staticmethod\n",
    "    def kSumClosest(nums, k, target):\n",
    "        N = len(nums)\n",
    "        # Special case where we only have k elements in nums. Return only option\n",
    "        if N == k:\n",
    "            return sum(nums[:k])\n",
    "        \n",
    "        # special case where the target is way too low\n",
    "        # we give the lowest we can\n",
    "        if sum(nums[:k]) >= target:\n",
    "            return sum(nums[:k])\n",
    "        \n",
    "        # special case where the target is too high\n",
    "        # we give the largest we can\n",
    "        if sum(nums[-k:]) <= target:\n",
    "            return sum(nums[-k:])\n",
    "        \n",
    "        # base case. look for the closest element\n",
    "        if k == 1:\n",
    "            # the element is the first and the delta is the second\n",
    "            deltas = [(x, abs(target-x)) for x in nums]\n",
    "            return min(deltas, key = lambda x: x[1])[0]\n",
    "        \n",
    "        # pick one element out and recursively search for closest match with k being one less\n",
    "        closest = sum(nums[:k])\n",
    "        for i,x in enumerate(nums):\n",
    "            # small optimization to handle duplicate x values\n",
    "            if i>0 and nums[i-1] == x:\n",
    "                continue\n",
    "                \n",
    "            bestMatch = Solution.kSumClosest(nums[i+1:], k-1, target-x)\n",
    "            current = x + bestMatch\n",
    "            if abs(target-current) < abs(target-closest):\n",
    "                if target == current:\n",
    "                    return current\n",
    "                else:\n",
    "                    closest = current\n",
    "                    \n",
    "        return closest"
   ]
  },
  {
   "cell_type": "code",
   "execution_count": 7,
   "metadata": {},
   "outputs": [
    {
     "name": "stdout",
     "output_type": "stream",
     "text": [
      "-2\n"
     ]
    }
   ],
   "source": [
    "print(Solution.kSumClosest([-1,0,1,2,-1,-4], 5, 3))"
   ]
  }
 ],
 "metadata": {
  "kernelspec": {
   "display_name": "Python 3",
   "language": "python",
   "name": "python3"
  },
  "language_info": {
   "codemirror_mode": {
    "name": "ipython",
    "version": 3
   },
   "file_extension": ".py",
   "mimetype": "text/x-python",
   "name": "python",
   "nbconvert_exporter": "python",
   "pygments_lexer": "ipython3",
   "version": "3.11.0"
  },
  "orig_nbformat": 4
 },
 "nbformat": 4,
 "nbformat_minor": 2
}
