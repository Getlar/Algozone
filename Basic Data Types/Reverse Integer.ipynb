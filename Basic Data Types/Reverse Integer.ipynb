{
 "cells": [
  {
   "cell_type": "markdown",
   "metadata": {},
   "source": [
    "## Given a signed 32-bit integer x, return `x` with its digits reversed. If reversing `x` causes the value to go outside the signed 32-bit integer range `[-2^31, 2^31 - 1]`, then return `0`.\n",
    "\n",
    "**Assume the environment does not allow you to store 64-bit integers (signed or unsigned).**\n",
    "\n",
    "----\n",
    "\n",
    "```\n",
    "Input: x = 123\n",
    "Output: 321\n",
    "```\n",
    "```\n",
    "Input: x = -123\n",
    "Output: -321\n",
    "```\n",
    "```\n",
    "Input: x = 120\n",
    "Output: 21\n",
    "```\n",
    "\n",
    "**Constraints:** `-2^31 <= x <= 2^31 - 1`\n",
    "\n",
    "----"
   ]
  },
  {
   "cell_type": "markdown",
   "metadata": {},
   "source": [
    "**Solution 1:** The provided solution follows a straightforward and easily comprehensible approach. It initiates by transforming the given numerical input into a string, subsequently reversing the string's order. In cases where the string originally included a negative sign ('-'), this sign is appropriately relocated to the beginning of the reversed string.\n",
    "\n",
    "Inside the try-catch block, an effort is made to convert the modified string into a signed integer. If this conversion successfully produces an integer that falls within the predefined constraints, the resulting value is returned. However, if the computed integer exceeds the permissible range, the function returns the value 0. This strategy ensures a clear and concise method for handling the given input and generating an appropriate output."
   ]
  },
  {
   "cell_type": "code",
   "execution_count": 1,
   "metadata": {},
   "outputs": [],
   "source": [
    "def reverse(x: int) -> int:\n",
    "    x_reversed = str(x)[::-1]\n",
    "\n",
    "    if x_reversed[len(x_reversed)-1] == '-':\n",
    "        x_reversed = '-' + x_reversed[:len(x_reversed)-1]\n",
    "        \n",
    "    try:\n",
    "        result = int(x_reversed)\n",
    "        if -2**31 <= result < 2**31:\n",
    "            return result\n",
    "        else:\n",
    "            return 0\n",
    "    except OverflowError:\n",
    "        return 0"
   ]
  },
  {
   "cell_type": "code",
   "execution_count": 6,
   "metadata": {},
   "outputs": [
    {
     "name": "stdout",
     "output_type": "stream",
     "text": [
      "-2915\n",
      "21\n",
      "0\n"
     ]
    }
   ],
   "source": [
    "print(reverse(-5192))\n",
    "print(reverse(12))\n",
    "print(reverse(99999999999))"
   ]
  },
  {
   "cell_type": "markdown",
   "metadata": {},
   "source": [
    "**Solution 2:** Another smart solution which is **O(n)**."
   ]
  },
  {
   "cell_type": "code",
   "execution_count": 3,
   "metadata": {},
   "outputs": [],
   "source": [
    "def reverse(x: int) -> int:\n",
    "        # max int value\n",
    "        mxStr =  '2147483647'\n",
    "        # reverse string of absolute value -> list\n",
    "        ansLst = reversed(str(abs(x)))\n",
    "        # create a string and pad it on the right by sufficient number of 0s\n",
    "        ansStr = ''.join(ansLst).rjust(10,'0')\n",
    "        # if abs value is larger than max return 0\n",
    "        if ansStr > mxStr: return 0\n",
    "        # if the number is negative return number * -1 else return number * 1\n",
    "        return int(ansStr)*(1 - 2*(x < 0))"
   ]
  },
  {
   "cell_type": "code",
   "execution_count": 5,
   "metadata": {},
   "outputs": [
    {
     "name": "stdout",
     "output_type": "stream",
     "text": [
      "-2915\n",
      "21\n",
      "0\n"
     ]
    }
   ],
   "source": [
    "print(reverse(-5192))\n",
    "print(reverse(12))\n",
    "print(reverse(99999999999))"
   ]
  }
 ],
 "metadata": {
  "kernelspec": {
   "display_name": "new",
   "language": "python",
   "name": "python3"
  },
  "language_info": {
   "codemirror_mode": {
    "name": "ipython",
    "version": 3
   },
   "file_extension": ".py",
   "mimetype": "text/x-python",
   "name": "python",
   "nbconvert_exporter": "python",
   "pygments_lexer": "ipython3",
   "version": "3.11.0"
  },
  "orig_nbformat": 4
 },
 "nbformat": 4,
 "nbformat_minor": 2
}
