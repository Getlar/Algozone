{
 "cells": [
  {
   "cell_type": "markdown",
   "metadata": {},
   "source": [
    "## Given a linked list, swap every two adjacent nodes and return its head. You must solve the problem without modifying the values in the list's nodes (i.e., only nodes themselves may be changed.)\n",
    "\n",
    "Return the sum of the three integers.\n",
    "\n",
    "You may assume that each input would have exactly one solution.\n",
    "\n",
    "![Max-Height](swap_ex1.jpg)\n",
    "----\n",
    "\n",
    "```\n",
    "Input: head = [1,2,3,4]\n",
    "Output: [2,1,4,3]\n",
    "```\n",
    "```\n",
    "Input: head = []\n",
    "Output: []\n",
    "\n",
    "```\n",
    "```\n",
    "Input: head = [1]\n",
    "Output: [1]\n",
    "```\n",
    "----\n",
    "\n",
    "**Constraints:**\n",
    "\n",
    "- The number of nodes in the list is in the range `[0, 100]`.\n",
    "- `0 <= Node.val <= 100`\n"
   ]
  },
  {
   "cell_type": "markdown",
   "metadata": {},
   "source": [
    "**Solution 1:** Using a temp node variables, we can easily change nodes. This is just like switching array variables in C using pointers."
   ]
  },
  {
   "cell_type": "code",
   "execution_count": 1,
   "metadata": {},
   "outputs": [],
   "source": [
    "from typing import Optional\n",
    "class ListNode:\n",
    "    def __init__(self, val=0, next=None):\n",
    "        self.val = val\n",
    "        self.next = next\n",
    "\n",
    "def build_linked_list(values):\n",
    "    if not values:\n",
    "        return None\n",
    "    \n",
    "    head = ListNode(values[0])\n",
    "    current = head\n",
    "\n",
    "    for val in values[1:]:\n",
    "        current.next = ListNode(val)\n",
    "        current = current.next\n",
    "\n",
    "    return head\n",
    "\n",
    "def print_linked_list(head):\n",
    "    current = head\n",
    "    while current:\n",
    "        print(current.val, end=\" -> \")\n",
    "        current = current.next\n",
    "    print(\"None\")\n",
    "\n",
    "class Solution:\n",
    "    @staticmethod\n",
    "    def swapPairs(head: Optional[ListNode]) -> Optional[ListNode]:\n",
    "        if head is None or head.next is None:\n",
    "            return head\n",
    "\n",
    "        headpointer = ListNode(0, head)\n",
    "        current = headpointer\n",
    "\n",
    "        while current.next and current.next.next:\n",
    "            node1 = current.next\n",
    "            node2 = current.next.next\n",
    "            node1.next = node2.next\n",
    "            node2.next = node1\n",
    "            current.next = node2\n",
    "            current = node1\n",
    "\n",
    "        return headpointer.next\n",
    "\n"
   ]
  },
  {
   "cell_type": "code",
   "execution_count": 2,
   "metadata": {},
   "outputs": [
    {
     "name": "stdout",
     "output_type": "stream",
     "text": [
      "2 -> 1 -> 4 -> 3 -> 5 -> None\n"
     ]
    }
   ],
   "source": [
    "head = build_linked_list([1,2,3,4,5])\n",
    "print_linked_list(Solution.swapPairs(head))"
   ]
  },
  {
   "cell_type": "code",
   "execution_count": null,
   "metadata": {},
   "outputs": [],
   "source": []
  },
  {
   "cell_type": "code",
   "execution_count": null,
   "metadata": {},
   "outputs": [],
   "source": [
    "# Definition for singly-linked list.\n",
    "class ListNode:\n",
    "    def __init__(self, val=0, next=None):\n",
    "        self.val = val\n",
    "        self.next = next\n",
    "class Solution:\n",
    "    def reverseKGroup(self, head: Optional[ListNode], k: int) -> Optional[ListNode]:\n",
    "        \n",
    "        def reverseSubList(head: Optional[ListNode]) -> Optional[ListNode]:\n",
    "            if head is None or head.next is None:\n",
    "                return head\n",
    "\n",
    "            prev = None\n",
    "            current = head\n",
    "\n",
    "            while current is not None:\n",
    "                next_node = current.next\n",
    "                current.next = prev\n",
    "                prev = current\n",
    "                current = next_node\n",
    "\n",
    "            return prev\n",
    "\n",
    "        \n",
    "        if head is None or head.next is None:\n",
    "            return head\n",
    "\n",
    "        headpointer = ListNode(0, head)\n",
    "        current = headpointer\n",
    "\n",
    "        result = ListNode(0, None)\n",
    "\n",
    "        counter = 0\n",
    "        while current.next is not None:\n",
    "            if counter == 0:\n",
    "                start_head = current\n",
    "            if counter == k:\n",
    "                result.next = reverseSubList(start_head)\n",
    "            \n",
    "            counter += 1\n",
    "            current = current.next\n",
    "\n",
    "        return headpointer.next\n",
    "        \n",
    "\n"
   ]
  }
 ],
 "metadata": {
  "kernelspec": {
   "display_name": "Python 3",
   "language": "python",
   "name": "python3"
  },
  "language_info": {
   "codemirror_mode": {
    "name": "ipython",
    "version": 3
   },
   "file_extension": ".py",
   "mimetype": "text/x-python",
   "name": "python",
   "nbconvert_exporter": "python",
   "pygments_lexer": "ipython3",
   "version": "3.11.0"
  },
  "orig_nbformat": 4
 },
 "nbformat": 4,
 "nbformat_minor": 2
}
